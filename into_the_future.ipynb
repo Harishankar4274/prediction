{
 "cells": [
  {
   "cell_type": "code",
   "execution_count": 1,
   "metadata": {},
   "outputs": [],
   "source": [
    "import pandas as pd\n",
    "import numpy as np"
   ]
  },
  {
   "cell_type": "code",
   "execution_count": 2,
   "metadata": {},
   "outputs": [],
   "source": [
    "train,test = pd.read_csv('../input/into-the-future/train.csv'),pd.read_csv('../input/into-the-future/test.csv')"
   ]
  },
  {
   "cell_type": "code",
   "execution_count": 3,
   "metadata": {
    "scrolled": false
   },
   "outputs": [
    {
     "data": {
      "text/html": [
       "<div>\n",
       "<style scoped>\n",
       "    .dataframe tbody tr th:only-of-type {\n",
       "        vertical-align: middle;\n",
       "    }\n",
       "\n",
       "    .dataframe tbody tr th {\n",
       "        vertical-align: top;\n",
       "    }\n",
       "\n",
       "    .dataframe thead th {\n",
       "        text-align: right;\n",
       "    }\n",
       "</style>\n",
       "<table border=\"1\" class=\"dataframe\">\n",
       "  <thead>\n",
       "    <tr style=\"text-align: right;\">\n",
       "      <th></th>\n",
       "      <th>id</th>\n",
       "      <th>time</th>\n",
       "      <th>feature_1</th>\n",
       "      <th>feature_2</th>\n",
       "    </tr>\n",
       "  </thead>\n",
       "  <tbody>\n",
       "    <tr>\n",
       "      <td>0</td>\n",
       "      <td>0</td>\n",
       "      <td>2019-03-19 00:00:00</td>\n",
       "      <td>735.740043</td>\n",
       "      <td>54479.540513</td>\n",
       "    </tr>\n",
       "    <tr>\n",
       "      <td>1</td>\n",
       "      <td>1</td>\n",
       "      <td>2019-03-19 00:00:10</td>\n",
       "      <td>734.102947</td>\n",
       "      <td>47888.033714</td>\n",
       "    </tr>\n",
       "    <tr>\n",
       "      <td>2</td>\n",
       "      <td>2</td>\n",
       "      <td>2019-03-19 00:00:20</td>\n",
       "      <td>730.060336</td>\n",
       "      <td>47700.882325</td>\n",
       "    </tr>\n",
       "    <tr>\n",
       "      <td>3</td>\n",
       "      <td>3</td>\n",
       "      <td>2019-03-19 00:00:30</td>\n",
       "      <td>725.609742</td>\n",
       "      <td>47790.094648</td>\n",
       "    </tr>\n",
       "    <tr>\n",
       "      <td>4</td>\n",
       "      <td>4</td>\n",
       "      <td>2019-03-19 00:00:40</td>\n",
       "      <td>724.328480</td>\n",
       "      <td>47808.402381</td>\n",
       "    </tr>\n",
       "    <tr>\n",
       "      <td>...</td>\n",
       "      <td>...</td>\n",
       "      <td>...</td>\n",
       "      <td>...</td>\n",
       "      <td>...</td>\n",
       "    </tr>\n",
       "    <tr>\n",
       "      <td>559</td>\n",
       "      <td>559</td>\n",
       "      <td>2019-03-19 01:33:10</td>\n",
       "      <td>423.726707</td>\n",
       "      <td>54115.388787</td>\n",
       "    </tr>\n",
       "    <tr>\n",
       "      <td>560</td>\n",
       "      <td>560</td>\n",
       "      <td>2019-03-19 01:33:20</td>\n",
       "      <td>424.278568</td>\n",
       "      <td>54127.830664</td>\n",
       "    </tr>\n",
       "    <tr>\n",
       "      <td>561</td>\n",
       "      <td>561</td>\n",
       "      <td>2019-03-19 01:33:30</td>\n",
       "      <td>420.127639</td>\n",
       "      <td>54092.561194</td>\n",
       "    </tr>\n",
       "    <tr>\n",
       "      <td>562</td>\n",
       "      <td>562</td>\n",
       "      <td>2019-03-19 01:33:40</td>\n",
       "      <td>421.291993</td>\n",
       "      <td>53994.714950</td>\n",
       "    </tr>\n",
       "    <tr>\n",
       "      <td>563</td>\n",
       "      <td>563</td>\n",
       "      <td>2019-03-19 01:33:50</td>\n",
       "      <td>423.257581</td>\n",
       "      <td>53863.615475</td>\n",
       "    </tr>\n",
       "  </tbody>\n",
       "</table>\n",
       "<p>564 rows × 4 columns</p>\n",
       "</div>"
      ],
      "text/plain": [
       "      id                 time   feature_1     feature_2\n",
       "0      0  2019-03-19 00:00:00  735.740043  54479.540513\n",
       "1      1  2019-03-19 00:00:10  734.102947  47888.033714\n",
       "2      2  2019-03-19 00:00:20  730.060336  47700.882325\n",
       "3      3  2019-03-19 00:00:30  725.609742  47790.094648\n",
       "4      4  2019-03-19 00:00:40  724.328480  47808.402381\n",
       "..   ...                  ...         ...           ...\n",
       "559  559  2019-03-19 01:33:10  423.726707  54115.388787\n",
       "560  560  2019-03-19 01:33:20  424.278568  54127.830664\n",
       "561  561  2019-03-19 01:33:30  420.127639  54092.561194\n",
       "562  562  2019-03-19 01:33:40  421.291993  53994.714950\n",
       "563  563  2019-03-19 01:33:50  423.257581  53863.615475\n",
       "\n",
       "[564 rows x 4 columns]"
      ]
     },
     "execution_count": 3,
     "metadata": {},
     "output_type": "execute_result"
    }
   ],
   "source": [
    "train"
   ]
  },
  {
   "cell_type": "code",
   "execution_count": 4,
   "metadata": {},
   "outputs": [
    {
     "data": {
      "text/html": [
       "<div>\n",
       "<style scoped>\n",
       "    .dataframe tbody tr th:only-of-type {\n",
       "        vertical-align: middle;\n",
       "    }\n",
       "\n",
       "    .dataframe tbody tr th {\n",
       "        vertical-align: top;\n",
       "    }\n",
       "\n",
       "    .dataframe thead th {\n",
       "        text-align: right;\n",
       "    }\n",
       "</style>\n",
       "<table border=\"1\" class=\"dataframe\">\n",
       "  <thead>\n",
       "    <tr style=\"text-align: right;\">\n",
       "      <th></th>\n",
       "      <th>id</th>\n",
       "      <th>time</th>\n",
       "      <th>feature_1</th>\n",
       "    </tr>\n",
       "  </thead>\n",
       "  <tbody>\n",
       "    <tr>\n",
       "      <td>0</td>\n",
       "      <td>564</td>\n",
       "      <td>2019-03-19 01:34:00</td>\n",
       "      <td>423.064004</td>\n",
       "    </tr>\n",
       "    <tr>\n",
       "      <td>1</td>\n",
       "      <td>565</td>\n",
       "      <td>2019-03-19 01:34:10</td>\n",
       "      <td>423.342749</td>\n",
       "    </tr>\n",
       "    <tr>\n",
       "      <td>2</td>\n",
       "      <td>566</td>\n",
       "      <td>2019-03-19 01:34:20</td>\n",
       "      <td>423.181186</td>\n",
       "    </tr>\n",
       "    <tr>\n",
       "      <td>3</td>\n",
       "      <td>567</td>\n",
       "      <td>2019-03-19 01:34:30</td>\n",
       "      <td>421.275243</td>\n",
       "    </tr>\n",
       "    <tr>\n",
       "      <td>4</td>\n",
       "      <td>568</td>\n",
       "      <td>2019-03-19 01:34:40</td>\n",
       "      <td>422.208444</td>\n",
       "    </tr>\n",
       "    <tr>\n",
       "      <td>...</td>\n",
       "      <td>...</td>\n",
       "      <td>...</td>\n",
       "      <td>...</td>\n",
       "    </tr>\n",
       "    <tr>\n",
       "      <td>370</td>\n",
       "      <td>934</td>\n",
       "      <td>2019-03-19 02:35:40</td>\n",
       "      <td>432.292203</td>\n",
       "    </tr>\n",
       "    <tr>\n",
       "      <td>371</td>\n",
       "      <td>935</td>\n",
       "      <td>2019-03-19 02:35:50</td>\n",
       "      <td>433.661272</td>\n",
       "    </tr>\n",
       "    <tr>\n",
       "      <td>372</td>\n",
       "      <td>936</td>\n",
       "      <td>2019-03-19 02:36:00</td>\n",
       "      <td>435.686429</td>\n",
       "    </tr>\n",
       "    <tr>\n",
       "      <td>373</td>\n",
       "      <td>937</td>\n",
       "      <td>2019-03-19 02:36:10</td>\n",
       "      <td>444.585521</td>\n",
       "    </tr>\n",
       "    <tr>\n",
       "      <td>374</td>\n",
       "      <td>938</td>\n",
       "      <td>2019-03-19 02:36:20</td>\n",
       "      <td>450.836415</td>\n",
       "    </tr>\n",
       "  </tbody>\n",
       "</table>\n",
       "<p>375 rows × 3 columns</p>\n",
       "</div>"
      ],
      "text/plain": [
       "      id                 time   feature_1\n",
       "0    564  2019-03-19 01:34:00  423.064004\n",
       "1    565  2019-03-19 01:34:10  423.342749\n",
       "2    566  2019-03-19 01:34:20  423.181186\n",
       "3    567  2019-03-19 01:34:30  421.275243\n",
       "4    568  2019-03-19 01:34:40  422.208444\n",
       "..   ...                  ...         ...\n",
       "370  934  2019-03-19 02:35:40  432.292203\n",
       "371  935  2019-03-19 02:35:50  433.661272\n",
       "372  936  2019-03-19 02:36:00  435.686429\n",
       "373  937  2019-03-19 02:36:10  444.585521\n",
       "374  938  2019-03-19 02:36:20  450.836415\n",
       "\n",
       "[375 rows x 3 columns]"
      ]
     },
     "execution_count": 4,
     "metadata": {},
     "output_type": "execute_result"
    }
   ],
   "source": [
    "test"
   ]
  },
  {
   "cell_type": "code",
   "execution_count": 5,
   "metadata": {},
   "outputs": [
    {
     "data": {
      "text/html": [
       "<div>\n",
       "<style scoped>\n",
       "    .dataframe tbody tr th:only-of-type {\n",
       "        vertical-align: middle;\n",
       "    }\n",
       "\n",
       "    .dataframe tbody tr th {\n",
       "        vertical-align: top;\n",
       "    }\n",
       "\n",
       "    .dataframe thead th {\n",
       "        text-align: right;\n",
       "    }\n",
       "</style>\n",
       "<table border=\"1\" class=\"dataframe\">\n",
       "  <thead>\n",
       "    <tr style=\"text-align: right;\">\n",
       "      <th></th>\n",
       "      <th>id</th>\n",
       "      <th>time</th>\n",
       "      <th>feature_1</th>\n",
       "      <th>feature_2</th>\n",
       "    </tr>\n",
       "  </thead>\n",
       "  <tbody>\n",
       "    <tr>\n",
       "      <td>0</td>\n",
       "      <td>0</td>\n",
       "      <td>2019-03-19 00:00:00</td>\n",
       "      <td>735.740043</td>\n",
       "      <td>54479.540513</td>\n",
       "    </tr>\n",
       "    <tr>\n",
       "      <td>1</td>\n",
       "      <td>1</td>\n",
       "      <td>2019-03-19 00:00:10</td>\n",
       "      <td>734.102947</td>\n",
       "      <td>47888.033714</td>\n",
       "    </tr>\n",
       "    <tr>\n",
       "      <td>2</td>\n",
       "      <td>2</td>\n",
       "      <td>2019-03-19 00:00:20</td>\n",
       "      <td>730.060336</td>\n",
       "      <td>47700.882325</td>\n",
       "    </tr>\n",
       "    <tr>\n",
       "      <td>3</td>\n",
       "      <td>3</td>\n",
       "      <td>2019-03-19 00:00:30</td>\n",
       "      <td>725.609742</td>\n",
       "      <td>47790.094648</td>\n",
       "    </tr>\n",
       "    <tr>\n",
       "      <td>4</td>\n",
       "      <td>4</td>\n",
       "      <td>2019-03-19 00:00:40</td>\n",
       "      <td>724.328480</td>\n",
       "      <td>47808.402381</td>\n",
       "    </tr>\n",
       "    <tr>\n",
       "      <td>5</td>\n",
       "      <td>5</td>\n",
       "      <td>2019-03-19 00:00:50</td>\n",
       "      <td>723.715893</td>\n",
       "      <td>47810.517411</td>\n",
       "    </tr>\n",
       "    <tr>\n",
       "      <td>6</td>\n",
       "      <td>6</td>\n",
       "      <td>2019-03-19 00:01:00</td>\n",
       "      <td>720.406875</td>\n",
       "      <td>47835.758121</td>\n",
       "    </tr>\n",
       "    <tr>\n",
       "      <td>7</td>\n",
       "      <td>7</td>\n",
       "      <td>2019-03-19 00:01:10</td>\n",
       "      <td>712.682269</td>\n",
       "      <td>47806.938481</td>\n",
       "    </tr>\n",
       "    <tr>\n",
       "      <td>8</td>\n",
       "      <td>8</td>\n",
       "      <td>2019-03-19 00:01:20</td>\n",
       "      <td>711.509741</td>\n",
       "      <td>47812.099044</td>\n",
       "    </tr>\n",
       "    <tr>\n",
       "      <td>9</td>\n",
       "      <td>9</td>\n",
       "      <td>2019-03-19 00:01:30</td>\n",
       "      <td>707.025594</td>\n",
       "      <td>47821.540514</td>\n",
       "    </tr>\n",
       "  </tbody>\n",
       "</table>\n",
       "</div>"
      ],
      "text/plain": [
       "   id                 time   feature_1     feature_2\n",
       "0   0  2019-03-19 00:00:00  735.740043  54479.540513\n",
       "1   1  2019-03-19 00:00:10  734.102947  47888.033714\n",
       "2   2  2019-03-19 00:00:20  730.060336  47700.882325\n",
       "3   3  2019-03-19 00:00:30  725.609742  47790.094648\n",
       "4   4  2019-03-19 00:00:40  724.328480  47808.402381\n",
       "5   5  2019-03-19 00:00:50  723.715893  47810.517411\n",
       "6   6  2019-03-19 00:01:00  720.406875  47835.758121\n",
       "7   7  2019-03-19 00:01:10  712.682269  47806.938481\n",
       "8   8  2019-03-19 00:01:20  711.509741  47812.099044\n",
       "9   9  2019-03-19 00:01:30  707.025594  47821.540514"
      ]
     },
     "execution_count": 5,
     "metadata": {},
     "output_type": "execute_result"
    }
   ],
   "source": [
    "train_10 = train.head(10)\n",
    "train_10"
   ]
  },
  {
   "cell_type": "code",
   "execution_count": 6,
   "metadata": {},
   "outputs": [
    {
     "data": {
      "text/html": [
       "<div>\n",
       "<style scoped>\n",
       "    .dataframe tbody tr th:only-of-type {\n",
       "        vertical-align: middle;\n",
       "    }\n",
       "\n",
       "    .dataframe tbody tr th {\n",
       "        vertical-align: top;\n",
       "    }\n",
       "\n",
       "    .dataframe thead th {\n",
       "        text-align: right;\n",
       "    }\n",
       "</style>\n",
       "<table border=\"1\" class=\"dataframe\">\n",
       "  <thead>\n",
       "    <tr style=\"text-align: right;\">\n",
       "      <th></th>\n",
       "      <th>id</th>\n",
       "      <th>time</th>\n",
       "      <th>feature_1</th>\n",
       "    </tr>\n",
       "  </thead>\n",
       "  <tbody>\n",
       "    <tr>\n",
       "      <td>0</td>\n",
       "      <td>564</td>\n",
       "      <td>2019-03-19 01:34:00</td>\n",
       "      <td>423.064004</td>\n",
       "    </tr>\n",
       "    <tr>\n",
       "      <td>1</td>\n",
       "      <td>565</td>\n",
       "      <td>2019-03-19 01:34:10</td>\n",
       "      <td>423.342749</td>\n",
       "    </tr>\n",
       "    <tr>\n",
       "      <td>2</td>\n",
       "      <td>566</td>\n",
       "      <td>2019-03-19 01:34:20</td>\n",
       "      <td>423.181186</td>\n",
       "    </tr>\n",
       "    <tr>\n",
       "      <td>3</td>\n",
       "      <td>567</td>\n",
       "      <td>2019-03-19 01:34:30</td>\n",
       "      <td>421.275243</td>\n",
       "    </tr>\n",
       "    <tr>\n",
       "      <td>4</td>\n",
       "      <td>568</td>\n",
       "      <td>2019-03-19 01:34:40</td>\n",
       "      <td>422.208444</td>\n",
       "    </tr>\n",
       "    <tr>\n",
       "      <td>5</td>\n",
       "      <td>569</td>\n",
       "      <td>2019-03-19 01:34:50</td>\n",
       "      <td>422.616254</td>\n",
       "    </tr>\n",
       "    <tr>\n",
       "      <td>6</td>\n",
       "      <td>570</td>\n",
       "      <td>2019-03-19 01:35:00</td>\n",
       "      <td>425.829766</td>\n",
       "    </tr>\n",
       "    <tr>\n",
       "      <td>7</td>\n",
       "      <td>571</td>\n",
       "      <td>2019-03-19 01:35:10</td>\n",
       "      <td>426.243830</td>\n",
       "    </tr>\n",
       "    <tr>\n",
       "      <td>8</td>\n",
       "      <td>572</td>\n",
       "      <td>2019-03-19 01:35:20</td>\n",
       "      <td>426.042621</td>\n",
       "    </tr>\n",
       "    <tr>\n",
       "      <td>9</td>\n",
       "      <td>573</td>\n",
       "      <td>2019-03-19 01:35:30</td>\n",
       "      <td>424.733116</td>\n",
       "    </tr>\n",
       "  </tbody>\n",
       "</table>\n",
       "</div>"
      ],
      "text/plain": [
       "    id                 time   feature_1\n",
       "0  564  2019-03-19 01:34:00  423.064004\n",
       "1  565  2019-03-19 01:34:10  423.342749\n",
       "2  566  2019-03-19 01:34:20  423.181186\n",
       "3  567  2019-03-19 01:34:30  421.275243\n",
       "4  568  2019-03-19 01:34:40  422.208444\n",
       "5  569  2019-03-19 01:34:50  422.616254\n",
       "6  570  2019-03-19 01:35:00  425.829766\n",
       "7  571  2019-03-19 01:35:10  426.243830\n",
       "8  572  2019-03-19 01:35:20  426.042621\n",
       "9  573  2019-03-19 01:35:30  424.733116"
      ]
     },
     "execution_count": 6,
     "metadata": {},
     "output_type": "execute_result"
    }
   ],
   "source": [
    "test_10 = test.head(10)\n",
    "test_10"
   ]
  },
  {
   "cell_type": "code",
   "execution_count": 7,
   "metadata": {},
   "outputs": [],
   "source": [
    "train_details,test_details = test.describe(),test.describe()"
   ]
  },
  {
   "cell_type": "code",
   "execution_count": 8,
   "metadata": {
    "scrolled": true
   },
   "outputs": [
    {
     "data": {
      "text/html": [
       "<div>\n",
       "<style scoped>\n",
       "    .dataframe tbody tr th:only-of-type {\n",
       "        vertical-align: middle;\n",
       "    }\n",
       "\n",
       "    .dataframe tbody tr th {\n",
       "        vertical-align: top;\n",
       "    }\n",
       "\n",
       "    .dataframe thead th {\n",
       "        text-align: right;\n",
       "    }\n",
       "</style>\n",
       "<table border=\"1\" class=\"dataframe\">\n",
       "  <thead>\n",
       "    <tr style=\"text-align: right;\">\n",
       "      <th></th>\n",
       "      <th>id</th>\n",
       "      <th>feature_1</th>\n",
       "    </tr>\n",
       "  </thead>\n",
       "  <tbody>\n",
       "    <tr>\n",
       "      <td>count</td>\n",
       "      <td>375.000000</td>\n",
       "      <td>375.000000</td>\n",
       "    </tr>\n",
       "    <tr>\n",
       "      <td>mean</td>\n",
       "      <td>751.000000</td>\n",
       "      <td>409.334539</td>\n",
       "    </tr>\n",
       "    <tr>\n",
       "      <td>std</td>\n",
       "      <td>108.397417</td>\n",
       "      <td>28.841608</td>\n",
       "    </tr>\n",
       "    <tr>\n",
       "      <td>min</td>\n",
       "      <td>564.000000</td>\n",
       "      <td>364.045118</td>\n",
       "    </tr>\n",
       "    <tr>\n",
       "      <td>25%</td>\n",
       "      <td>657.500000</td>\n",
       "      <td>383.701342</td>\n",
       "    </tr>\n",
       "    <tr>\n",
       "      <td>50%</td>\n",
       "      <td>751.000000</td>\n",
       "      <td>401.488841</td>\n",
       "    </tr>\n",
       "    <tr>\n",
       "      <td>75%</td>\n",
       "      <td>844.500000</td>\n",
       "      <td>432.481531</td>\n",
       "    </tr>\n",
       "    <tr>\n",
       "      <td>max</td>\n",
       "      <td>938.000000</td>\n",
       "      <td>466.892616</td>\n",
       "    </tr>\n",
       "  </tbody>\n",
       "</table>\n",
       "</div>"
      ],
      "text/plain": [
       "               id   feature_1\n",
       "count  375.000000  375.000000\n",
       "mean   751.000000  409.334539\n",
       "std    108.397417   28.841608\n",
       "min    564.000000  364.045118\n",
       "25%    657.500000  383.701342\n",
       "50%    751.000000  401.488841\n",
       "75%    844.500000  432.481531\n",
       "max    938.000000  466.892616"
      ]
     },
     "execution_count": 8,
     "metadata": {},
     "output_type": "execute_result"
    }
   ],
   "source": [
    "train_details"
   ]
  },
  {
   "cell_type": "code",
   "execution_count": 9,
   "metadata": {},
   "outputs": [
    {
     "name": "stdout",
     "output_type": "stream",
     "text": [
      "<class 'pandas.core.frame.DataFrame'>\n",
      "RangeIndex: 564 entries, 0 to 563\n",
      "Data columns (total 4 columns):\n",
      "id           564 non-null int64\n",
      "time         564 non-null object\n",
      "feature_1    564 non-null float64\n",
      "feature_2    564 non-null float64\n",
      "dtypes: float64(2), int64(1), object(1)\n",
      "memory usage: 17.8+ KB\n"
     ]
    }
   ],
   "source": [
    "train.info()"
   ]
  },
  {
   "cell_type": "code",
   "execution_count": 10,
   "metadata": {},
   "outputs": [
    {
     "name": "stdout",
     "output_type": "stream",
     "text": [
      "<class 'pandas.core.frame.DataFrame'>\n",
      "RangeIndex: 375 entries, 0 to 374\n",
      "Data columns (total 3 columns):\n",
      "id           375 non-null int64\n",
      "time         375 non-null object\n",
      "feature_1    375 non-null float64\n",
      "dtypes: float64(1), int64(1), object(1)\n",
      "memory usage: 8.9+ KB\n"
     ]
    }
   ],
   "source": [
    "test.info()"
   ]
  },
  {
   "cell_type": "code",
   "execution_count": 11,
   "metadata": {},
   "outputs": [],
   "source": [
    "correlation = train.corr()"
   ]
  },
  {
   "cell_type": "code",
   "execution_count": 12,
   "metadata": {},
   "outputs": [],
   "source": [
    "import seaborn as sns"
   ]
  },
  {
   "cell_type": "code",
   "execution_count": 13,
   "metadata": {},
   "outputs": [
    {
     "data": {
      "text/plain": [
       "<matplotlib.axes._subplots.AxesSubplot at 0x7f2d988b0590>"
      ]
     },
     "execution_count": 13,
     "metadata": {},
     "output_type": "execute_result"
    },
    {
     "data": {
      "image/png": "[encoded data removed]",
      "text/plain": [
       "<Figure size 432x288 with 2 Axes>"
      ]
     },
     "metadata": {
      "needs_background": "light"
     },
     "output_type": "display_data"
    }
   ],
   "source": [
    "sns.heatmap(correlation, annot=True)"
   ]
  },
  {
   "cell_type": "code",
   "execution_count": 14,
   "metadata": {
    "scrolled": false
   },
   "outputs": [
    {
     "data": {
      "text/plain": [
       "<seaborn.axisgrid.PairGrid at 0x7f2d93c00550>"
      ]
     },
     "execution_count": 14,
     "metadata": {},
     "output_type": "execute_result"
    },
    {
     "data": {
      "image/png": "[encoded data removed]",
      "text/plain": [
       "<Figure size 540x540 with 12 Axes>"
      ]
     },
     "metadata": {
      "needs_background": "light"
     },
     "output_type": "display_data"
    }
   ],
   "source": [
    "sns.pairplot(train, kind='reg')"
   ]
  },
  {
   "cell_type": "code",
   "execution_count": 15,
   "metadata": {
    "scrolled": false
   },
   "outputs": [
    {
     "name": "stderr",
     "output_type": "stream",
     "text": [
      "'c' argument looks like a single numeric RGB or RGBA sequence, which should be avoided as value-mapping will have precedence in case its length matches with 'x' & 'y'.  Please use a 2-D array with a single row if you really want to specify the same RGB or RGBA value for all points.\n"
     ]
    },
    {
     "data": {
      "text/plain": [
       "<matplotlib.axes._subplots.AxesSubplot at 0x7f2d91ee21d0>"
      ]
     },
     "execution_count": 15,
     "metadata": {},
     "output_type": "execute_result"
    },
    {
     "data": {
      "image/png": "[encoded data removed]",
      "text/plain": [
       "<Figure size 432x288 with 1 Axes>"
      ]
     },
     "metadata": {
      "needs_background": "light"
     },
     "output_type": "display_data"
    }
   ],
   "source": [
    "sns.boxenplot(x='feature_1', data=train)"
   ]
  },
  {
   "cell_type": "code",
   "execution_count": 16,
   "metadata": {
    "scrolled": true
   },
   "outputs": [
    {
     "data": {
      "text/plain": [
       "<matplotlib.axes._subplots.AxesSubplot at 0x7f2d91ea3650>"
      ]
     },
     "execution_count": 16,
     "metadata": {},
     "output_type": "execute_result"
    },
    {
     "data": {
      "image/png": "[encoded data removed]",
      "text/plain": [
       "<Figure size 432x288 with 1 Axes>"
      ]
     },
     "metadata": {
      "needs_background": "light"
     },
     "output_type": "display_data"
    }
   ],
   "source": [
    "sns.boxenplot(y='feature_2', data=train)"
   ]
  },
  {
   "cell_type": "code",
   "execution_count": 17,
   "metadata": {},
   "outputs": [
    {
     "data": {
      "text/plain": [
       "<seaborn.axisgrid.JointGrid at 0x7f2d91e554d0>"
      ]
     },
     "execution_count": 17,
     "metadata": {},
     "output_type": "execute_result"
    },
    {
     "data": {
      "image/png": "[encoded data removed]",
      "text/plain": [
       "<Figure size 432x432 with 3 Axes>"
      ]
     },
     "metadata": {
      "needs_background": "light"
     },
     "output_type": "display_data"
    }
   ],
   "source": [
    "sns.jointplot(x=train['feature_1'],y=train['feature_2'],kind='reg')"
   ]
  },
  {
   "cell_type": "code",
   "execution_count": 18,
   "metadata": {
    "scrolled": true
   },
   "outputs": [
    {
     "data": {
      "text/plain": [
       "<matplotlib.axes._subplots.AxesSubplot at 0x7f2d91ccecd0>"
      ]
     },
     "execution_count": 18,
     "metadata": {},
     "output_type": "execute_result"
    },
    {
     "data": {
      "image/png": "[encoded data removed]",
      "text/plain": [
       "<Figure size 432x288 with 2 Axes>"
      ]
     },
     "metadata": {
      "needs_background": "light"
     },
     "output_type": "display_data"
    }
   ],
   "source": [
    "sns.heatmap(train.isnull())"
   ]
  },
  {
   "cell_type": "code",
   "execution_count": 19,
   "metadata": {},
   "outputs": [],
   "source": [
    "from sklearn.linear_model import LinearRegression"
   ]
  },
  {
   "cell_type": "code",
   "execution_count": 20,
   "metadata": {},
   "outputs": [],
   "source": [
    "X,Y = train[['feature_1']],train[['feature_2']]"
   ]
  },
  {
   "cell_type": "code",
   "execution_count": 21,
   "metadata": {
    "scrolled": true
   },
   "outputs": [
    {
     "data": {
      "text/html": [
       "<div>\n",
       "<style scoped>\n",
       "    .dataframe tbody tr th:only-of-type {\n",
       "        vertical-align: middle;\n",
       "    }\n",
       "\n",
       "    .dataframe tbody tr th {\n",
       "        vertical-align: top;\n",
       "    }\n",
       "\n",
       "    .dataframe thead th {\n",
       "        text-align: right;\n",
       "    }\n",
       "</style>\n",
       "<table border=\"1\" class=\"dataframe\">\n",
       "  <thead>\n",
       "    <tr style=\"text-align: right;\">\n",
       "      <th></th>\n",
       "      <th>feature_1</th>\n",
       "    </tr>\n",
       "  </thead>\n",
       "  <tbody>\n",
       "    <tr>\n",
       "      <td>0</td>\n",
       "      <td>735.740043</td>\n",
       "    </tr>\n",
       "    <tr>\n",
       "      <td>1</td>\n",
       "      <td>734.102947</td>\n",
       "    </tr>\n",
       "    <tr>\n",
       "      <td>2</td>\n",
       "      <td>730.060336</td>\n",
       "    </tr>\n",
       "    <tr>\n",
       "      <td>3</td>\n",
       "      <td>725.609742</td>\n",
       "    </tr>\n",
       "    <tr>\n",
       "      <td>4</td>\n",
       "      <td>724.328480</td>\n",
       "    </tr>\n",
       "    <tr>\n",
       "      <td>...</td>\n",
       "      <td>...</td>\n",
       "    </tr>\n",
       "    <tr>\n",
       "      <td>559</td>\n",
       "      <td>423.726707</td>\n",
       "    </tr>\n",
       "    <tr>\n",
       "      <td>560</td>\n",
       "      <td>424.278568</td>\n",
       "    </tr>\n",
       "    <tr>\n",
       "      <td>561</td>\n",
       "      <td>420.127639</td>\n",
       "    </tr>\n",
       "    <tr>\n",
       "      <td>562</td>\n",
       "      <td>421.291993</td>\n",
       "    </tr>\n",
       "    <tr>\n",
       "      <td>563</td>\n",
       "      <td>423.257581</td>\n",
       "    </tr>\n",
       "  </tbody>\n",
       "</table>\n",
       "<p>564 rows × 1 columns</p>\n",
       "</div>"
      ],
      "text/plain": [
       "      feature_1\n",
       "0    735.740043\n",
       "1    734.102947\n",
       "2    730.060336\n",
       "3    725.609742\n",
       "4    724.328480\n",
       "..          ...\n",
       "559  423.726707\n",
       "560  424.278568\n",
       "561  420.127639\n",
       "562  421.291993\n",
       "563  423.257581\n",
       "\n",
       "[564 rows x 1 columns]"
      ]
     },
     "execution_count": 21,
     "metadata": {},
     "output_type": "execute_result"
    }
   ],
   "source": [
    "X"
   ]
  },
  {
   "cell_type": "code",
   "execution_count": 22,
   "metadata": {},
   "outputs": [
    {
     "data": {
      "text/html": [
       "<div>\n",
       "<style scoped>\n",
       "    .dataframe tbody tr th:only-of-type {\n",
       "        vertical-align: middle;\n",
       "    }\n",
       "\n",
       "    .dataframe tbody tr th {\n",
       "        vertical-align: top;\n",
       "    }\n",
       "\n",
       "    .dataframe thead th {\n",
       "        text-align: right;\n",
       "    }\n",
       "</style>\n",
       "<table border=\"1\" class=\"dataframe\">\n",
       "  <thead>\n",
       "    <tr style=\"text-align: right;\">\n",
       "      <th></th>\n",
       "      <th>feature_2</th>\n",
       "    </tr>\n",
       "  </thead>\n",
       "  <tbody>\n",
       "    <tr>\n",
       "      <td>0</td>\n",
       "      <td>54479.540513</td>\n",
       "    </tr>\n",
       "    <tr>\n",
       "      <td>1</td>\n",
       "      <td>47888.033714</td>\n",
       "    </tr>\n",
       "    <tr>\n",
       "      <td>2</td>\n",
       "      <td>47700.882325</td>\n",
       "    </tr>\n",
       "    <tr>\n",
       "      <td>3</td>\n",
       "      <td>47790.094648</td>\n",
       "    </tr>\n",
       "    <tr>\n",
       "      <td>4</td>\n",
       "      <td>47808.402381</td>\n",
       "    </tr>\n",
       "    <tr>\n",
       "      <td>...</td>\n",
       "      <td>...</td>\n",
       "    </tr>\n",
       "    <tr>\n",
       "      <td>559</td>\n",
       "      <td>54115.388787</td>\n",
       "    </tr>\n",
       "    <tr>\n",
       "      <td>560</td>\n",
       "      <td>54127.830664</td>\n",
       "    </tr>\n",
       "    <tr>\n",
       "      <td>561</td>\n",
       "      <td>54092.561194</td>\n",
       "    </tr>\n",
       "    <tr>\n",
       "      <td>562</td>\n",
       "      <td>53994.714950</td>\n",
       "    </tr>\n",
       "    <tr>\n",
       "      <td>563</td>\n",
       "      <td>53863.615475</td>\n",
       "    </tr>\n",
       "  </tbody>\n",
       "</table>\n",
       "<p>564 rows × 1 columns</p>\n",
       "</div>"
      ],
      "text/plain": [
       "        feature_2\n",
       "0    54479.540513\n",
       "1    47888.033714\n",
       "2    47700.882325\n",
       "3    47790.094648\n",
       "4    47808.402381\n",
       "..            ...\n",
       "559  54115.388787\n",
       "560  54127.830664\n",
       "561  54092.561194\n",
       "562  53994.714950\n",
       "563  53863.615475\n",
       "\n",
       "[564 rows x 1 columns]"
      ]
     },
     "execution_count": 22,
     "metadata": {},
     "output_type": "execute_result"
    }
   ],
   "source": [
    "Y"
   ]
  },
  {
   "cell_type": "code",
   "execution_count": 23,
   "metadata": {},
   "outputs": [
    {
     "data": {
      "text/plain": [
       "LinearRegression(copy_X=True, fit_intercept=True, n_jobs=None, normalize=False)"
      ]
     },
     "execution_count": 23,
     "metadata": {},
     "output_type": "execute_result"
    }
   ],
   "source": [
    "model = LinearRegression()\n",
    "model.fit(X,Y)"
   ]
  },
  {
   "cell_type": "code",
   "execution_count": 24,
   "metadata": {},
   "outputs": [
    {
     "name": "stdout",
     "output_type": "stream",
     "text": [
      "[63497.03890325]\n",
      "[[-21.02054279]]\n"
     ]
    }
   ],
   "source": [
    "print(model.intercept_)\n",
    "print(model.coef_)"
   ]
  },
  {
   "cell_type": "code",
   "execution_count": 25,
   "metadata": {
    "scrolled": true
   },
   "outputs": [
    {
     "data": {
      "text/plain": [
       "<matplotlib.axes._subplots.AxesSubplot at 0x7f2d911f0950>"
      ]
     },
     "execution_count": 25,
     "metadata": {},
     "output_type": "execute_result"
    },
    {
     "data": {
      "image/png": "[encoded data removed]",
      "text/plain": [
       "<Figure size 432x288 with 2 Axes>"
      ]
     },
     "metadata": {
      "needs_background": "light"
     },
     "output_type": "display_data"
    }
   ],
   "source": [
    "test = pd.read_csv('test.csv')\n",
    "sns.heatmap(test.isnull())"
   ]
  },
  {
   "cell_type": "code",
   "execution_count": 26,
   "metadata": {},
   "outputs": [
    {
     "data": {
      "text/html": [
       "<div>\n",
       "<style scoped>\n",
       "    .dataframe tbody tr th:only-of-type {\n",
       "        vertical-align: middle;\n",
       "    }\n",
       "\n",
       "    .dataframe tbody tr th {\n",
       "        vertical-align: top;\n",
       "    }\n",
       "\n",
       "    .dataframe thead th {\n",
       "        text-align: right;\n",
       "    }\n",
       "</style>\n",
       "<table border=\"1\" class=\"dataframe\">\n",
       "  <thead>\n",
       "    <tr style=\"text-align: right;\">\n",
       "      <th></th>\n",
       "      <th>id</th>\n",
       "      <th>time</th>\n",
       "      <th>feature_1</th>\n",
       "    </tr>\n",
       "  </thead>\n",
       "  <tbody>\n",
       "    <tr>\n",
       "      <td>0</td>\n",
       "      <td>564</td>\n",
       "      <td>2019-03-19 01:34:00</td>\n",
       "      <td>423.064004</td>\n",
       "    </tr>\n",
       "    <tr>\n",
       "      <td>1</td>\n",
       "      <td>565</td>\n",
       "      <td>2019-03-19 01:34:10</td>\n",
       "      <td>423.342749</td>\n",
       "    </tr>\n",
       "    <tr>\n",
       "      <td>2</td>\n",
       "      <td>566</td>\n",
       "      <td>2019-03-19 01:34:20</td>\n",
       "      <td>423.181186</td>\n",
       "    </tr>\n",
       "    <tr>\n",
       "      <td>3</td>\n",
       "      <td>567</td>\n",
       "      <td>2019-03-19 01:34:30</td>\n",
       "      <td>421.275243</td>\n",
       "    </tr>\n",
       "    <tr>\n",
       "      <td>4</td>\n",
       "      <td>568</td>\n",
       "      <td>2019-03-19 01:34:40</td>\n",
       "      <td>422.208444</td>\n",
       "    </tr>\n",
       "    <tr>\n",
       "      <td>...</td>\n",
       "      <td>...</td>\n",
       "      <td>...</td>\n",
       "      <td>...</td>\n",
       "    </tr>\n",
       "    <tr>\n",
       "      <td>370</td>\n",
       "      <td>934</td>\n",
       "      <td>2019-03-19 02:35:40</td>\n",
       "      <td>432.292203</td>\n",
       "    </tr>\n",
       "    <tr>\n",
       "      <td>371</td>\n",
       "      <td>935</td>\n",
       "      <td>2019-03-19 02:35:50</td>\n",
       "      <td>433.661272</td>\n",
       "    </tr>\n",
       "    <tr>\n",
       "      <td>372</td>\n",
       "      <td>936</td>\n",
       "      <td>2019-03-19 02:36:00</td>\n",
       "      <td>435.686429</td>\n",
       "    </tr>\n",
       "    <tr>\n",
       "      <td>373</td>\n",
       "      <td>937</td>\n",
       "      <td>2019-03-19 02:36:10</td>\n",
       "      <td>444.585521</td>\n",
       "    </tr>\n",
       "    <tr>\n",
       "      <td>374</td>\n",
       "      <td>938</td>\n",
       "      <td>2019-03-19 02:36:20</td>\n",
       "      <td>450.836415</td>\n",
       "    </tr>\n",
       "  </tbody>\n",
       "</table>\n",
       "<p>375 rows × 3 columns</p>\n",
       "</div>"
      ],
      "text/plain": [
       "      id                 time   feature_1\n",
       "0    564  2019-03-19 01:34:00  423.064004\n",
       "1    565  2019-03-19 01:34:10  423.342749\n",
       "2    566  2019-03-19 01:34:20  423.181186\n",
       "3    567  2019-03-19 01:34:30  421.275243\n",
       "4    568  2019-03-19 01:34:40  422.208444\n",
       "..   ...                  ...         ...\n",
       "370  934  2019-03-19 02:35:40  432.292203\n",
       "371  935  2019-03-19 02:35:50  433.661272\n",
       "372  936  2019-03-19 02:36:00  435.686429\n",
       "373  937  2019-03-19 02:36:10  444.585521\n",
       "374  938  2019-03-19 02:36:20  450.836415\n",
       "\n",
       "[375 rows x 3 columns]"
      ]
     },
     "execution_count": 26,
     "metadata": {},
     "output_type": "execute_result"
    }
   ],
   "source": [
    "test"
   ]
  },
  {
   "cell_type": "code",
   "execution_count": 27,
   "metadata": {},
   "outputs": [],
   "source": [
    "test_x = test['feature_1']"
   ]
  },
  {
   "cell_type": "code",
   "execution_count": 28,
   "metadata": {},
   "outputs": [
    {
     "data": {
      "text/plain": [
       "0      423.064004\n",
       "1      423.342749\n",
       "2      423.181186\n",
       "3      421.275243\n",
       "4      422.208444\n",
       "          ...    \n",
       "370    432.292203\n",
       "371    433.661272\n",
       "372    435.686429\n",
       "373    444.585521\n",
       "374    450.836415\n",
       "Name: feature_1, Length: 375, dtype: float64"
      ]
     },
     "execution_count": 28,
     "metadata": {},
     "output_type": "execute_result"
    }
   ],
   "source": [
    "test_x"
   ]
  },
  {
   "cell_type": "code",
   "execution_count": 30,
   "metadata": {},
   "outputs": [],
   "source": [
    "test_X = pd.DataFrame(test_x)\n",
    "test_Y=model.predict(test_X)"
   ]
  },
  {
   "cell_type": "code",
   "execution_count": 31,
   "metadata": {},
   "outputs": [
    {
     "data": {
      "text/plain": [
       "array([[54604.00390246],\n",
       "       [54598.14453381],\n",
       "       [54601.54067274],\n",
       "       [54641.60463632],\n",
       "       [54621.98823341],\n",
       "       [54613.4158431 ],\n",
       "       [54545.86608096],\n",
       "       [54537.16223888],\n",
       "       [54541.39175023],\n",
       "       [54568.91826847],\n",
       "       [54569.41144295],\n",
       "       [54777.18494592],\n",
       "       [54586.57855754],\n",
       "       [54603.95498835],\n",
       "       [54609.24638373],\n",
       "       [54613.41031558],\n",
       "       [54619.65365698],\n",
       "       [54629.31267628],\n",
       "       [54642.17511015],\n",
       "       [54973.90805646],\n",
       "       [54673.77103108],\n",
       "       [54652.79145865],\n",
       "       [54657.80005997],\n",
       "       [54679.33271418],\n",
       "       [54686.43738999],\n",
       "       [54695.2063284 ],\n",
       "       [54705.85468608],\n",
       "       [54713.27282563],\n",
       "       [54724.5219445 ],\n",
       "       [54723.3556973 ],\n",
       "       [54735.63286386],\n",
       "       [54729.29253   ],\n",
       "       [54734.87040423],\n",
       "       [54764.43682949],\n",
       "       [54752.68029294],\n",
       "       [54740.22969452],\n",
       "       [54775.2401482 ],\n",
       "       [54784.80072356],\n",
       "       [54802.8847886 ],\n",
       "       [54795.34384758],\n",
       "       [54798.17182801],\n",
       "       [54804.73384771],\n",
       "       [54805.9710249 ],\n",
       "       [54788.31233177],\n",
       "       [54834.25840746],\n",
       "       [54839.84600794],\n",
       "       [54830.00705317],\n",
       "       [54849.78049178],\n",
       "       [54838.84482589],\n",
       "       [54847.21874243],\n",
       "       [54862.32466412],\n",
       "       [54872.97150994],\n",
       "       [54863.53365101],\n",
       "       [54862.78927535],\n",
       "       [55032.06087455],\n",
       "       [55005.29466375],\n",
       "       [54882.66237962],\n",
       "       [54885.51000969],\n",
       "       [54905.58377575],\n",
       "       [54898.1786637 ],\n",
       "       [54913.24640991],\n",
       "       [54927.50443988],\n",
       "       [54915.23164138],\n",
       "       [54961.21189936],\n",
       "       [55107.15128234],\n",
       "       [54963.55879846],\n",
       "       [54963.46305611],\n",
       "       [54958.29817233],\n",
       "       [54965.12491867],\n",
       "       [54960.85043537],\n",
       "       [54954.64252161],\n",
       "       [54972.14441375],\n",
       "       [54997.82351306],\n",
       "       [55000.82132283],\n",
       "       [54997.84645711],\n",
       "       [54996.99909418],\n",
       "       [54996.64676926],\n",
       "       [55094.92196443],\n",
       "       [55016.11753958],\n",
       "       [55026.8714571 ],\n",
       "       [55028.11691844],\n",
       "       [55027.57579041],\n",
       "       [55058.18319966],\n",
       "       [55056.26141241],\n",
       "       [55053.38332007],\n",
       "       [55060.48283609],\n",
       "       [55059.97326008],\n",
       "       [55064.23475364],\n",
       "       [55065.92746156],\n",
       "       [55092.03928616],\n",
       "       [55105.70615144],\n",
       "       [55193.62173894],\n",
       "       [55124.81368728],\n",
       "       [55121.36641103],\n",
       "       [55123.89238962],\n",
       "       [55127.69958599],\n",
       "       [55163.6239858 ],\n",
       "       [55155.70917171],\n",
       "       [55159.50914742],\n",
       "       [55183.41353208],\n",
       "       [55168.0647163 ],\n",
       "       [55187.00358582],\n",
       "       [55296.21287243],\n",
       "       [55183.11823747],\n",
       "       [55180.56362801],\n",
       "       [55202.4283019 ],\n",
       "       [55202.23679038],\n",
       "       [55184.82609928],\n",
       "       [55192.66808942],\n",
       "       [55291.26570114],\n",
       "       [55313.82687331],\n",
       "       [55207.34639695],\n",
       "       [55221.4235997 ],\n",
       "       [55223.02061634],\n",
       "       [55221.41178465],\n",
       "       [55225.98404088],\n",
       "       [55259.09638029],\n",
       "       [55256.89517999],\n",
       "       [55317.88091104],\n",
       "       [55267.75218052],\n",
       "       [55266.64411818],\n",
       "       [55284.51795877],\n",
       "       [55289.23581582],\n",
       "       [55285.42217248],\n",
       "       [55304.230711  ],\n",
       "       [55396.02427556],\n",
       "       [55320.49518016],\n",
       "       [55318.49608748],\n",
       "       [55319.49453954],\n",
       "       [55319.64245456],\n",
       "       [55320.61646343],\n",
       "       [55335.28306931],\n",
       "       [55333.19367542],\n",
       "       [55320.66818611],\n",
       "       [55331.47886787],\n",
       "       [55336.50782659],\n",
       "       [55345.21038411],\n",
       "       [55343.29747445],\n",
       "       [55362.88615044],\n",
       "       [55437.45078183],\n",
       "       [55360.36378321],\n",
       "       [55357.70910839],\n",
       "       [55449.9910161 ],\n",
       "       [55370.06946597],\n",
       "       [55366.59758935],\n",
       "       [55388.11632592],\n",
       "       [55383.85721008],\n",
       "       [55382.3790289 ],\n",
       "       [55397.88812903],\n",
       "       [55406.18881574],\n",
       "       [55405.48881565],\n",
       "       [55412.1070506 ],\n",
       "       [55423.38213562],\n",
       "       [55428.12074831],\n",
       "       [55429.95640198],\n",
       "       [55440.70548826],\n",
       "       [55443.38822063],\n",
       "       [55432.90044877],\n",
       "       [55441.52233067],\n",
       "       [55586.5070993 ],\n",
       "       [55486.67238058],\n",
       "       [55488.2602203 ],\n",
       "       [55500.64426267],\n",
       "       [55496.47488195],\n",
       "       [55500.37146196],\n",
       "       [55491.4347015 ],\n",
       "       [55498.92915581],\n",
       "       [55514.52420272],\n",
       "       [55512.96325231],\n",
       "       [55525.68904295],\n",
       "       [55844.6129329 ],\n",
       "       [55515.48680264],\n",
       "       [55512.54876703],\n",
       "       [55523.82936554],\n",
       "       [55537.84759016],\n",
       "       [55525.69722719],\n",
       "       [55512.48615301],\n",
       "       [55516.67593581],\n",
       "       [55526.26244764],\n",
       "       [55548.36074217],\n",
       "       [55566.05151468],\n",
       "       [55554.31553402],\n",
       "       [55543.33743621],\n",
       "       [55552.49804052],\n",
       "       [55560.70355415],\n",
       "       [55567.47448228],\n",
       "       [55577.05647048],\n",
       "       [55574.67168331],\n",
       "       [55578.75656967],\n",
       "       [55577.87213079],\n",
       "       [55587.53810065],\n",
       "       [55594.1334048 ],\n",
       "       [55584.25148525],\n",
       "       [55592.80354329],\n",
       "       [55604.57041426],\n",
       "       [55613.64919189],\n",
       "       [55672.89377801],\n",
       "       [55679.90078594],\n",
       "       [55587.86802995],\n",
       "       [55566.80457359],\n",
       "       [55579.57076295],\n",
       "       [55577.04898327],\n",
       "       [55578.99752893],\n",
       "       [55595.92959187],\n",
       "       [55590.24143104],\n",
       "       [55573.67320747],\n",
       "       [55569.72312058],\n",
       "       [55696.42512156],\n",
       "       [55691.36292893],\n",
       "       [55607.43109052],\n",
       "       [55601.48420657],\n",
       "       [55615.90185533],\n",
       "       [55617.79884927],\n",
       "       [55632.22018891],\n",
       "       [55608.74628523],\n",
       "       [55587.65770959],\n",
       "       [55599.15549883],\n",
       "       [55575.11946799],\n",
       "       [55516.78112306],\n",
       "       [55490.58323775],\n",
       "       [55500.60881908],\n",
       "       [55521.0872509 ],\n",
       "       [55520.33108756],\n",
       "       [55526.49733752],\n",
       "       [55484.54216472],\n",
       "       [55495.57262344],\n",
       "       [55527.35781589],\n",
       "       [55498.91528674],\n",
       "       [55501.23359249],\n",
       "       [55494.33464934],\n",
       "       [55521.31875231],\n",
       "       [55531.68208008],\n",
       "       [55534.1351068 ],\n",
       "       [55549.34839341],\n",
       "       [55558.89795748],\n",
       "       [55579.49573235],\n",
       "       [55598.52738107],\n",
       "       [55605.20477013],\n",
       "       [55615.36853304],\n",
       "       [55628.93752848],\n",
       "       [55621.97851245],\n",
       "       [55642.33298268],\n",
       "       [55827.25483941],\n",
       "       [55644.01944161],\n",
       "       [55653.78784165],\n",
       "       [55639.13054297],\n",
       "       [55549.25127432],\n",
       "       [55341.43555334],\n",
       "       [55266.07516892],\n",
       "       [55167.22747799],\n",
       "       [55144.73884275],\n",
       "       [55098.36942846],\n",
       "       [55109.0854776 ],\n",
       "       [55057.52553549],\n",
       "       [55080.86803061],\n",
       "       [55175.13109496],\n",
       "       [55117.68812086],\n",
       "       [55100.96799956],\n",
       "       [55078.17102597],\n",
       "       [55080.80218955],\n",
       "       [55140.75462826],\n",
       "       [55087.9740144 ],\n",
       "       [55113.49815643],\n",
       "       [55115.95111034],\n",
       "       [55136.92444153],\n",
       "       [55126.80535656],\n",
       "       [55137.70453609],\n",
       "       [55151.3112906 ],\n",
       "       [55142.27933788],\n",
       "       [55095.78362542],\n",
       "       [54977.62001588],\n",
       "       [54853.6608342 ],\n",
       "       [54796.26995129],\n",
       "       [54676.0670809 ],\n",
       "       [54520.33050604],\n",
       "       [54423.79334175],\n",
       "       [54392.95278015],\n",
       "       [54391.83668238],\n",
       "       [54540.99731451],\n",
       "       [54586.90340801],\n",
       "       [54239.80233994],\n",
       "       [54041.92573979],\n",
       "       [53894.76355125],\n",
       "       [53834.78973085],\n",
       "       [53823.55925001],\n",
       "       [53825.62541678],\n",
       "       [53797.06262918],\n",
       "       [53754.81867697],\n",
       "       [53747.70918613],\n",
       "       [53749.5558763 ],\n",
       "       [53770.05042014],\n",
       "       [53752.75277964],\n",
       "       [53751.89517706],\n",
       "       [53739.58346878],\n",
       "       [53743.89701291],\n",
       "       [53682.70268188],\n",
       "       [53688.22502828],\n",
       "       [53742.79936868],\n",
       "       [53758.28613282],\n",
       "       [53771.54717536],\n",
       "       [53789.61393489],\n",
       "       [53834.57229851],\n",
       "       [53859.47841047],\n",
       "       [53872.63198408],\n",
       "       [53899.64821576],\n",
       "       [53928.9793569 ],\n",
       "       [53971.77942952],\n",
       "       [54007.98790124],\n",
       "       [54053.17791814],\n",
       "       [54052.92960834],\n",
       "       [54074.61862082],\n",
       "       [54079.0000476 ],\n",
       "       [54129.29214475],\n",
       "       [54137.92094947],\n",
       "       [54154.09185657],\n",
       "       [54134.33244937],\n",
       "       [54093.87162121],\n",
       "       [54069.88313583],\n",
       "       [53936.72069333],\n",
       "       [53787.51260548],\n",
       "       [53737.08490202],\n",
       "       [53724.21821852],\n",
       "       [53722.15239534],\n",
       "       [53731.64200062],\n",
       "       [53740.13323264],\n",
       "       [53757.16040472],\n",
       "       [53760.44267768],\n",
       "       [53816.37143488],\n",
       "       [53872.53431308],\n",
       "       [53791.9483667 ],\n",
       "       [53811.48829363],\n",
       "       [53815.96598514],\n",
       "       [53829.44733944],\n",
       "       [53862.15843275],\n",
       "       [53889.28070386],\n",
       "       [53895.59151339],\n",
       "       [53917.63277444],\n",
       "       [53936.17728537],\n",
       "       [53963.18654669],\n",
       "       [53969.50133139],\n",
       "       [54005.87988317],\n",
       "       [54135.61655669],\n",
       "       [54024.70095508],\n",
       "       [54032.7508457 ],\n",
       "       [54028.67244687],\n",
       "       [54048.29993441],\n",
       "       [54068.19173682],\n",
       "       [54070.43804703],\n",
       "       [54096.6540679 ],\n",
       "       [54131.87835595],\n",
       "       [54134.66959007],\n",
       "       [54147.40863307],\n",
       "       [54163.87256825],\n",
       "       [54192.22310072],\n",
       "       [54209.16449805],\n",
       "       [54216.30469921],\n",
       "       [54248.84202062],\n",
       "       [54261.56108185],\n",
       "       [54288.59207905],\n",
       "       [54317.61120123],\n",
       "       [54324.70869587],\n",
       "       [54331.55531926],\n",
       "       [54352.92376485],\n",
       "       [54353.80892372],\n",
       "       [54362.87014569],\n",
       "       [54381.43315604],\n",
       "       [54386.48577473],\n",
       "       [54402.06258449],\n",
       "       [54418.49840953],\n",
       "       [54410.62880841],\n",
       "       [54410.02214976],\n",
       "       [54381.24357012],\n",
       "       [54338.67367388],\n",
       "       [54151.60994483],\n",
       "       [54020.21274467]])"
      ]
     },
     "execution_count": 31,
     "metadata": {},
     "output_type": "execute_result"
    }
   ],
   "source": [
    "test_Y"
   ]
  },
  {
   "cell_type": "code",
   "execution_count": 37,
   "metadata": {},
   "outputs": [
    {
     "data": {
      "text/plain": [
       "(375, 1)"
      ]
     },
     "execution_count": 37,
     "metadata": {},
     "output_type": "execute_result"
    }
   ],
   "source": [
    "test_Y.shape"
   ]
  },
  {
   "cell_type": "code",
   "execution_count": 39,
   "metadata": {},
   "outputs": [
    {
     "data": {
      "text/plain": [
       "array([54604.00390246, 54598.14453381, 54601.54067274, 54641.60463632,\n",
       "       54621.98823341, 54613.4158431 , 54545.86608096, 54537.16223888,\n",
       "       54541.39175023, 54568.91826847, 54569.41144295, 54777.18494592,\n",
       "       54586.57855754, 54603.95498835, 54609.24638373, 54613.41031558,\n",
       "       54619.65365698, 54629.31267628, 54642.17511015, 54973.90805646,\n",
       "       54673.77103108, 54652.79145865, 54657.80005997, 54679.33271418,\n",
       "       54686.43738999, 54695.2063284 , 54705.85468608, 54713.27282563,\n",
       "       54724.5219445 , 54723.3556973 , 54735.63286386, 54729.29253   ,\n",
       "       54734.87040423, 54764.43682949, 54752.68029294, 54740.22969452,\n",
       "       54775.2401482 , 54784.80072356, 54802.8847886 , 54795.34384758,\n",
       "       54798.17182801, 54804.73384771, 54805.9710249 , 54788.31233177,\n",
       "       54834.25840746, 54839.84600794, 54830.00705317, 54849.78049178,\n",
       "       54838.84482589, 54847.21874243, 54862.32466412, 54872.97150994,\n",
       "       54863.53365101, 54862.78927535, 55032.06087455, 55005.29466375,\n",
       "       54882.66237962, 54885.51000969, 54905.58377575, 54898.1786637 ,\n",
       "       54913.24640991, 54927.50443988, 54915.23164138, 54961.21189936,\n",
       "       55107.15128234, 54963.55879846, 54963.46305611, 54958.29817233,\n",
       "       54965.12491867, 54960.85043537, 54954.64252161, 54972.14441375,\n",
       "       54997.82351306, 55000.82132283, 54997.84645711, 54996.99909418,\n",
       "       54996.64676926, 55094.92196443, 55016.11753958, 55026.8714571 ,\n",
       "       55028.11691844, 55027.57579041, 55058.18319966, 55056.26141241,\n",
       "       55053.38332007, 55060.48283609, 55059.97326008, 55064.23475364,\n",
       "       55065.92746156, 55092.03928616, 55105.70615144, 55193.62173894,\n",
       "       55124.81368728, 55121.36641103, 55123.89238962, 55127.69958599,\n",
       "       55163.6239858 , 55155.70917171, 55159.50914742, 55183.41353208,\n",
       "       55168.0647163 , 55187.00358582, 55296.21287243, 55183.11823747,\n",
       "       55180.56362801, 55202.4283019 , 55202.23679038, 55184.82609928,\n",
       "       55192.66808942, 55291.26570114, 55313.82687331, 55207.34639695,\n",
       "       55221.4235997 , 55223.02061634, 55221.41178465, 55225.98404088,\n",
       "       55259.09638029, 55256.89517999, 55317.88091104, 55267.75218052,\n",
       "       55266.64411818, 55284.51795877, 55289.23581582, 55285.42217248,\n",
       "       55304.230711  , 55396.02427556, 55320.49518016, 55318.49608748,\n",
       "       55319.49453954, 55319.64245456, 55320.61646343, 55335.28306931,\n",
       "       55333.19367542, 55320.66818611, 55331.47886787, 55336.50782659,\n",
       "       55345.21038411, 55343.29747445, 55362.88615044, 55437.45078183,\n",
       "       55360.36378321, 55357.70910839, 55449.9910161 , 55370.06946597,\n",
       "       55366.59758935, 55388.11632592, 55383.85721008, 55382.3790289 ,\n",
       "       55397.88812903, 55406.18881574, 55405.48881565, 55412.1070506 ,\n",
       "       55423.38213562, 55428.12074831, 55429.95640198, 55440.70548826,\n",
       "       55443.38822063, 55432.90044877, 55441.52233067, 55586.5070993 ,\n",
       "       55486.67238058, 55488.2602203 , 55500.64426267, 55496.47488195,\n",
       "       55500.37146196, 55491.4347015 , 55498.92915581, 55514.52420272,\n",
       "       55512.96325231, 55525.68904295, 55844.6129329 , 55515.48680264,\n",
       "       55512.54876703, 55523.82936554, 55537.84759016, 55525.69722719,\n",
       "       55512.48615301, 55516.67593581, 55526.26244764, 55548.36074217,\n",
       "       55566.05151468, 55554.31553402, 55543.33743621, 55552.49804052,\n",
       "       55560.70355415, 55567.47448228, 55577.05647048, 55574.67168331,\n",
       "       55578.75656967, 55577.87213079, 55587.53810065, 55594.1334048 ,\n",
       "       55584.25148525, 55592.80354329, 55604.57041426, 55613.64919189,\n",
       "       55672.89377801, 55679.90078594, 55587.86802995, 55566.80457359,\n",
       "       55579.57076295, 55577.04898327, 55578.99752893, 55595.92959187,\n",
       "       55590.24143104, 55573.67320747, 55569.72312058, 55696.42512156,\n",
       "       55691.36292893, 55607.43109052, 55601.48420657, 55615.90185533,\n",
       "       55617.79884927, 55632.22018891, 55608.74628523, 55587.65770959,\n",
       "       55599.15549883, 55575.11946799, 55516.78112306, 55490.58323775,\n",
       "       55500.60881908, 55521.0872509 , 55520.33108756, 55526.49733752,\n",
       "       55484.54216472, 55495.57262344, 55527.35781589, 55498.91528674,\n",
       "       55501.23359249, 55494.33464934, 55521.31875231, 55531.68208008,\n",
       "       55534.1351068 , 55549.34839341, 55558.89795748, 55579.49573235,\n",
       "       55598.52738107, 55605.20477013, 55615.36853304, 55628.93752848,\n",
       "       55621.97851245, 55642.33298268, 55827.25483941, 55644.01944161,\n",
       "       55653.78784165, 55639.13054297, 55549.25127432, 55341.43555334,\n",
       "       55266.07516892, 55167.22747799, 55144.73884275, 55098.36942846,\n",
       "       55109.0854776 , 55057.52553549, 55080.86803061, 55175.13109496,\n",
       "       55117.68812086, 55100.96799956, 55078.17102597, 55080.80218955,\n",
       "       55140.75462826, 55087.9740144 , 55113.49815643, 55115.95111034,\n",
       "       55136.92444153, 55126.80535656, 55137.70453609, 55151.3112906 ,\n",
       "       55142.27933788, 55095.78362542, 54977.62001588, 54853.6608342 ,\n",
       "       54796.26995129, 54676.0670809 , 54520.33050604, 54423.79334175,\n",
       "       54392.95278015, 54391.83668238, 54540.99731451, 54586.90340801,\n",
       "       54239.80233994, 54041.92573979, 53894.76355125, 53834.78973085,\n",
       "       53823.55925001, 53825.62541678, 53797.06262918, 53754.81867697,\n",
       "       53747.70918613, 53749.5558763 , 53770.05042014, 53752.75277964,\n",
       "       53751.89517706, 53739.58346878, 53743.89701291, 53682.70268188,\n",
       "       53688.22502828, 53742.79936868, 53758.28613282, 53771.54717536,\n",
       "       53789.61393489, 53834.57229851, 53859.47841047, 53872.63198408,\n",
       "       53899.64821576, 53928.9793569 , 53971.77942952, 54007.98790124,\n",
       "       54053.17791814, 54052.92960834, 54074.61862082, 54079.0000476 ,\n",
       "       54129.29214475, 54137.92094947, 54154.09185657, 54134.33244937,\n",
       "       54093.87162121, 54069.88313583, 53936.72069333, 53787.51260548,\n",
       "       53737.08490202, 53724.21821852, 53722.15239534, 53731.64200062,\n",
       "       53740.13323264, 53757.16040472, 53760.44267768, 53816.37143488,\n",
       "       53872.53431308, 53791.9483667 , 53811.48829363, 53815.96598514,\n",
       "       53829.44733944, 53862.15843275, 53889.28070386, 53895.59151339,\n",
       "       53917.63277444, 53936.17728537, 53963.18654669, 53969.50133139,\n",
       "       54005.87988317, 54135.61655669, 54024.70095508, 54032.7508457 ,\n",
       "       54028.67244687, 54048.29993441, 54068.19173682, 54070.43804703,\n",
       "       54096.6540679 , 54131.87835595, 54134.66959007, 54147.40863307,\n",
       "       54163.87256825, 54192.22310072, 54209.16449805, 54216.30469921,\n",
       "       54248.84202062, 54261.56108185, 54288.59207905, 54317.61120123,\n",
       "       54324.70869587, 54331.55531926, 54352.92376485, 54353.80892372,\n",
       "       54362.87014569, 54381.43315604, 54386.48577473, 54402.06258449,\n",
       "       54418.49840953, 54410.62880841, 54410.02214976, 54381.24357012,\n",
       "       54338.67367388, 54151.60994483, 54020.21274467])"
      ]
     },
     "execution_count": 39,
     "metadata": {},
     "output_type": "execute_result"
    }
   ],
   "source": [
    "test_Y.reshape(375,)"
   ]
  },
  {
   "cell_type": "code",
   "execution_count": 38,
   "metadata": {},
   "outputs": [
    {
     "data": {
      "text/plain": [
       "(375, 1)"
      ]
     },
     "execution_count": 38,
     "metadata": {},
     "output_type": "execute_result"
    }
   ],
   "source": [
    "test_X.shape"
   ]
  },
  {
   "cell_type": "code",
   "execution_count": 66,
   "metadata": {},
   "outputs": [],
   "source": [
    "result = pd.DataFrame(test)"
   ]
  },
  {
   "cell_type": "code",
   "execution_count": 67,
   "metadata": {},
   "outputs": [
    {
     "data": {
      "text/html": [
       "<div>\n",
       "<style scoped>\n",
       "    .dataframe tbody tr th:only-of-type {\n",
       "        vertical-align: middle;\n",
       "    }\n",
       "\n",
       "    .dataframe tbody tr th {\n",
       "        vertical-align: top;\n",
       "    }\n",
       "\n",
       "    .dataframe thead th {\n",
       "        text-align: right;\n",
       "    }\n",
       "</style>\n",
       "<table border=\"1\" class=\"dataframe\">\n",
       "  <thead>\n",
       "    <tr style=\"text-align: right;\">\n",
       "      <th></th>\n",
       "      <th>id</th>\n",
       "      <th>time</th>\n",
       "      <th>feature_1</th>\n",
       "    </tr>\n",
       "  </thead>\n",
       "  <tbody>\n",
       "    <tr>\n",
       "      <td>0</td>\n",
       "      <td>564</td>\n",
       "      <td>2019-03-19 01:34:00</td>\n",
       "      <td>423.064004</td>\n",
       "    </tr>\n",
       "    <tr>\n",
       "      <td>1</td>\n",
       "      <td>565</td>\n",
       "      <td>2019-03-19 01:34:10</td>\n",
       "      <td>423.342749</td>\n",
       "    </tr>\n",
       "    <tr>\n",
       "      <td>2</td>\n",
       "      <td>566</td>\n",
       "      <td>2019-03-19 01:34:20</td>\n",
       "      <td>423.181186</td>\n",
       "    </tr>\n",
       "    <tr>\n",
       "      <td>3</td>\n",
       "      <td>567</td>\n",
       "      <td>2019-03-19 01:34:30</td>\n",
       "      <td>421.275243</td>\n",
       "    </tr>\n",
       "    <tr>\n",
       "      <td>4</td>\n",
       "      <td>568</td>\n",
       "      <td>2019-03-19 01:34:40</td>\n",
       "      <td>422.208444</td>\n",
       "    </tr>\n",
       "    <tr>\n",
       "      <td>...</td>\n",
       "      <td>...</td>\n",
       "      <td>...</td>\n",
       "      <td>...</td>\n",
       "    </tr>\n",
       "    <tr>\n",
       "      <td>370</td>\n",
       "      <td>934</td>\n",
       "      <td>2019-03-19 02:35:40</td>\n",
       "      <td>432.292203</td>\n",
       "    </tr>\n",
       "    <tr>\n",
       "      <td>371</td>\n",
       "      <td>935</td>\n",
       "      <td>2019-03-19 02:35:50</td>\n",
       "      <td>433.661272</td>\n",
       "    </tr>\n",
       "    <tr>\n",
       "      <td>372</td>\n",
       "      <td>936</td>\n",
       "      <td>2019-03-19 02:36:00</td>\n",
       "      <td>435.686429</td>\n",
       "    </tr>\n",
       "    <tr>\n",
       "      <td>373</td>\n",
       "      <td>937</td>\n",
       "      <td>2019-03-19 02:36:10</td>\n",
       "      <td>444.585521</td>\n",
       "    </tr>\n",
       "    <tr>\n",
       "      <td>374</td>\n",
       "      <td>938</td>\n",
       "      <td>2019-03-19 02:36:20</td>\n",
       "      <td>450.836415</td>\n",
       "    </tr>\n",
       "  </tbody>\n",
       "</table>\n",
       "<p>375 rows × 3 columns</p>\n",
       "</div>"
      ],
      "text/plain": [
       "      id                 time   feature_1\n",
       "0    564  2019-03-19 01:34:00  423.064004\n",
       "1    565  2019-03-19 01:34:10  423.342749\n",
       "2    566  2019-03-19 01:34:20  423.181186\n",
       "3    567  2019-03-19 01:34:30  421.275243\n",
       "4    568  2019-03-19 01:34:40  422.208444\n",
       "..   ...                  ...         ...\n",
       "370  934  2019-03-19 02:35:40  432.292203\n",
       "371  935  2019-03-19 02:35:50  433.661272\n",
       "372  936  2019-03-19 02:36:00  435.686429\n",
       "373  937  2019-03-19 02:36:10  444.585521\n",
       "374  938  2019-03-19 02:36:20  450.836415\n",
       "\n",
       "[375 rows x 3 columns]"
      ]
     },
     "execution_count": 67,
     "metadata": {},
     "output_type": "execute_result"
    }
   ],
   "source": [
    "result"
   ]
  },
  {
   "cell_type": "code",
   "execution_count": 68,
   "metadata": {},
   "outputs": [],
   "source": [
    "result['feature_2']=test_Y"
   ]
  },
  {
   "cell_type": "code",
   "execution_count": 69,
   "metadata": {},
   "outputs": [
    {
     "data": {
      "text/html": [
       "<div>\n",
       "<style scoped>\n",
       "    .dataframe tbody tr th:only-of-type {\n",
       "        vertical-align: middle;\n",
       "    }\n",
       "\n",
       "    .dataframe tbody tr th {\n",
       "        vertical-align: top;\n",
       "    }\n",
       "\n",
       "    .dataframe thead th {\n",
       "        text-align: right;\n",
       "    }\n",
       "</style>\n",
       "<table border=\"1\" class=\"dataframe\">\n",
       "  <thead>\n",
       "    <tr style=\"text-align: right;\">\n",
       "      <th></th>\n",
       "      <th>id</th>\n",
       "      <th>time</th>\n",
       "      <th>feature_1</th>\n",
       "      <th>feature_2</th>\n",
       "    </tr>\n",
       "  </thead>\n",
       "  <tbody>\n",
       "    <tr>\n",
       "      <td>0</td>\n",
       "      <td>564</td>\n",
       "      <td>2019-03-19 01:34:00</td>\n",
       "      <td>423.064004</td>\n",
       "      <td>54604.003902</td>\n",
       "    </tr>\n",
       "    <tr>\n",
       "      <td>1</td>\n",
       "      <td>565</td>\n",
       "      <td>2019-03-19 01:34:10</td>\n",
       "      <td>423.342749</td>\n",
       "      <td>54598.144534</td>\n",
       "    </tr>\n",
       "    <tr>\n",
       "      <td>2</td>\n",
       "      <td>566</td>\n",
       "      <td>2019-03-19 01:34:20</td>\n",
       "      <td>423.181186</td>\n",
       "      <td>54601.540673</td>\n",
       "    </tr>\n",
       "    <tr>\n",
       "      <td>3</td>\n",
       "      <td>567</td>\n",
       "      <td>2019-03-19 01:34:30</td>\n",
       "      <td>421.275243</td>\n",
       "      <td>54641.604636</td>\n",
       "    </tr>\n",
       "    <tr>\n",
       "      <td>4</td>\n",
       "      <td>568</td>\n",
       "      <td>2019-03-19 01:34:40</td>\n",
       "      <td>422.208444</td>\n",
       "      <td>54621.988233</td>\n",
       "    </tr>\n",
       "    <tr>\n",
       "      <td>...</td>\n",
       "      <td>...</td>\n",
       "      <td>...</td>\n",
       "      <td>...</td>\n",
       "      <td>...</td>\n",
       "    </tr>\n",
       "    <tr>\n",
       "      <td>370</td>\n",
       "      <td>934</td>\n",
       "      <td>2019-03-19 02:35:40</td>\n",
       "      <td>432.292203</td>\n",
       "      <td>54410.022150</td>\n",
       "    </tr>\n",
       "    <tr>\n",
       "      <td>371</td>\n",
       "      <td>935</td>\n",
       "      <td>2019-03-19 02:35:50</td>\n",
       "      <td>433.661272</td>\n",
       "      <td>54381.243570</td>\n",
       "    </tr>\n",
       "    <tr>\n",
       "      <td>372</td>\n",
       "      <td>936</td>\n",
       "      <td>2019-03-19 02:36:00</td>\n",
       "      <td>435.686429</td>\n",
       "      <td>54338.673674</td>\n",
       "    </tr>\n",
       "    <tr>\n",
       "      <td>373</td>\n",
       "      <td>937</td>\n",
       "      <td>2019-03-19 02:36:10</td>\n",
       "      <td>444.585521</td>\n",
       "      <td>54151.609945</td>\n",
       "    </tr>\n",
       "    <tr>\n",
       "      <td>374</td>\n",
       "      <td>938</td>\n",
       "      <td>2019-03-19 02:36:20</td>\n",
       "      <td>450.836415</td>\n",
       "      <td>54020.212745</td>\n",
       "    </tr>\n",
       "  </tbody>\n",
       "</table>\n",
       "<p>375 rows × 4 columns</p>\n",
       "</div>"
      ],
      "text/plain": [
       "      id                 time   feature_1     feature_2\n",
       "0    564  2019-03-19 01:34:00  423.064004  54604.003902\n",
       "1    565  2019-03-19 01:34:10  423.342749  54598.144534\n",
       "2    566  2019-03-19 01:34:20  423.181186  54601.540673\n",
       "3    567  2019-03-19 01:34:30  421.275243  54641.604636\n",
       "4    568  2019-03-19 01:34:40  422.208444  54621.988233\n",
       "..   ...                  ...         ...           ...\n",
       "370  934  2019-03-19 02:35:40  432.292203  54410.022150\n",
       "371  935  2019-03-19 02:35:50  433.661272  54381.243570\n",
       "372  936  2019-03-19 02:36:00  435.686429  54338.673674\n",
       "373  937  2019-03-19 02:36:10  444.585521  54151.609945\n",
       "374  938  2019-03-19 02:36:20  450.836415  54020.212745\n",
       "\n",
       "[375 rows x 4 columns]"
      ]
     },
     "execution_count": 69,
     "metadata": {},
     "output_type": "execute_result"
    }
   ],
   "source": [
    "result"
   ]
  },
  {
   "cell_type": "code",
   "execution_count": 70,
   "metadata": {},
   "outputs": [
    {
     "data": {
      "text/plain": [
       "<seaborn.axisgrid.PairGrid at 0x7f2d833b2290>"
      ]
     },
     "execution_count": 70,
     "metadata": {},
     "output_type": "execute_result"
    },
    {
     "data": {
      "image/png": "[encoded data removed]",
      "text/plain": [
       "<Figure size 540x540 with 12 Axes>"
      ]
     },
     "metadata": {
      "needs_background": "light"
     },
     "output_type": "display_data"
    }
   ],
   "source": [
    "sns.pairplot(result)"
   ]
  },
  {
   "cell_type": "code",
   "execution_count": 71,
   "metadata": {},
   "outputs": [
    {
     "data": {
      "text/plain": [
       "<seaborn.axisgrid.JointGrid at 0x7f2d81585c50>"
      ]
     },
     "execution_count": 71,
     "metadata": {},
     "output_type": "execute_result"
    },
    {
     "data": {
      "image/png": "[encoded data removed]",
      "text/plain": [
       "<Figure size 432x432 with 3 Axes>"
      ]
     },
     "metadata": {
      "needs_background": "light"
     },
     "output_type": "display_data"
    }
   ],
   "source": [
    "sns.jointplot(x=result['feature_1'],y=result['feature_2'])"
   ]
  },
  {
   "cell_type": "code",
   "execution_count": 73,
   "metadata": {},
   "outputs": [],
   "source": [
    "result.to_csv('result.csv')"
   ]
  },
  {
   "cell_type": "code",
   "execution_count": 65,
   "metadata": {},
   "outputs": [],
   "source": [
    "from sklearn import metrics\n",
    "import math"
   ]
  },
  {
   "cell_type": "code",
   "execution_count": null,
   "metadata": {},
   "outputs": [],
   "source": [
    "mse = metrics.mean_squared_error()"
   ]
  }
 ],
 "metadata": {
  "kernelspec": {
   "display_name": "Python 3",
   "language": "python",
   "name": "python3"
  },
  "language_info": {
   "codemirror_mode": {
    "name": "ipython",
    "version": 3
   },
   "file_extension": ".py",
   "mimetype": "text/x-python",
   "name": "python",
   "nbconvert_exporter": "python",
   "pygments_lexer": "ipython3",
   "version": "3.7.4"
  }
 },
 "nbformat": 4,
 "nbformat_minor": 2
}
